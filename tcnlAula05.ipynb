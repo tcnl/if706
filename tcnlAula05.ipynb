{
 "cells": [
  {
   "cell_type": "code",
   "execution_count": 2,
   "metadata": {},
   "outputs": [],
   "source": [
    "import pandas as pd\n",
    "import numpy as np\n",
    "import scipy as scp\n",
    "from bs4 import BeautifulSoup\n",
    "import requests as rq\n",
    "import re"
   ]
  },
  {
   "cell_type": "code",
   "execution_count": 13,
   "metadata": {},
   "outputs": [
    {
     "ename": "UnicodeDecodeError",
     "evalue": "'charmap' codec can't decode byte 0x8d in position 3488: character maps to <undefined>",
     "output_type": "error",
     "traceback": [
      "\u001b[1;31m---------------------------------------------------------------------------\u001b[0m",
      "\u001b[1;31mUnicodeDecodeError\u001b[0m                        Traceback (most recent call last)",
      "\u001b[1;32m<ipython-input-13-5b54da0a75ee>\u001b[0m in \u001b[0;36m<module>\u001b[1;34m()\u001b[0m\n\u001b[0;32m      5\u001b[0m \u001b[1;33m\u001b[0m\u001b[0m\n\u001b[0;32m      6\u001b[0m \u001b[0murl\u001b[0m \u001b[1;33m=\u001b[0m \u001b[1;34m\"./buscape.html\"\u001b[0m\u001b[1;33m\u001b[0m\u001b[0m\n\u001b[1;32m----> 7\u001b[1;33m \u001b[0mparser_page\u001b[0m \u001b[1;33m=\u001b[0m \u001b[0mBeautifulSoup\u001b[0m\u001b[1;33m(\u001b[0m\u001b[0mopen\u001b[0m\u001b[1;33m(\u001b[0m\u001b[0murl\u001b[0m\u001b[1;33m)\u001b[0m\u001b[1;33m,\u001b[0m \u001b[1;34m\"html.parser\"\u001b[0m\u001b[1;33m)\u001b[0m\u001b[1;33m\u001b[0m\u001b[0m\n\u001b[0m\u001b[0;32m      8\u001b[0m \u001b[1;31m#print(parsed_page)\u001b[0m\u001b[1;33m\u001b[0m\u001b[1;33m\u001b[0m\u001b[0m\n",
      "\u001b[1;32mC:\\ProgramFiles\\Anaconda3\\lib\\site-packages\\bs4\\__init__.py\u001b[0m in \u001b[0;36m__init__\u001b[1;34m(self, markup, features, builder, parse_only, from_encoding, exclude_encodings, **kwargs)\u001b[0m\n\u001b[0;32m    189\u001b[0m \u001b[1;33m\u001b[0m\u001b[0m\n\u001b[0;32m    190\u001b[0m         \u001b[1;32mif\u001b[0m \u001b[0mhasattr\u001b[0m\u001b[1;33m(\u001b[0m\u001b[0mmarkup\u001b[0m\u001b[1;33m,\u001b[0m \u001b[1;34m'read'\u001b[0m\u001b[1;33m)\u001b[0m\u001b[1;33m:\u001b[0m        \u001b[1;31m# It's a file-type object.\u001b[0m\u001b[1;33m\u001b[0m\u001b[0m\n\u001b[1;32m--> 191\u001b[1;33m             \u001b[0mmarkup\u001b[0m \u001b[1;33m=\u001b[0m \u001b[0mmarkup\u001b[0m\u001b[1;33m.\u001b[0m\u001b[0mread\u001b[0m\u001b[1;33m(\u001b[0m\u001b[1;33m)\u001b[0m\u001b[1;33m\u001b[0m\u001b[0m\n\u001b[0m\u001b[0;32m    192\u001b[0m         elif len(markup) <= 256 and (\n\u001b[0;32m    193\u001b[0m                 \u001b[1;33m(\u001b[0m\u001b[0misinstance\u001b[0m\u001b[1;33m(\u001b[0m\u001b[0mmarkup\u001b[0m\u001b[1;33m,\u001b[0m \u001b[0mbytes\u001b[0m\u001b[1;33m)\u001b[0m \u001b[1;32mand\u001b[0m \u001b[1;32mnot\u001b[0m \u001b[1;34mb'<'\u001b[0m \u001b[1;32min\u001b[0m \u001b[0mmarkup\u001b[0m\u001b[1;33m)\u001b[0m\u001b[1;33m\u001b[0m\u001b[0m\n",
      "\u001b[1;32mC:\\ProgramFiles\\Anaconda3\\lib\\encodings\\cp1252.py\u001b[0m in \u001b[0;36mdecode\u001b[1;34m(self, input, final)\u001b[0m\n\u001b[0;32m     21\u001b[0m \u001b[1;32mclass\u001b[0m \u001b[0mIncrementalDecoder\u001b[0m\u001b[1;33m(\u001b[0m\u001b[0mcodecs\u001b[0m\u001b[1;33m.\u001b[0m\u001b[0mIncrementalDecoder\u001b[0m\u001b[1;33m)\u001b[0m\u001b[1;33m:\u001b[0m\u001b[1;33m\u001b[0m\u001b[0m\n\u001b[0;32m     22\u001b[0m     \u001b[1;32mdef\u001b[0m \u001b[0mdecode\u001b[0m\u001b[1;33m(\u001b[0m\u001b[0mself\u001b[0m\u001b[1;33m,\u001b[0m \u001b[0minput\u001b[0m\u001b[1;33m,\u001b[0m \u001b[0mfinal\u001b[0m\u001b[1;33m=\u001b[0m\u001b[1;32mFalse\u001b[0m\u001b[1;33m)\u001b[0m\u001b[1;33m:\u001b[0m\u001b[1;33m\u001b[0m\u001b[0m\n\u001b[1;32m---> 23\u001b[1;33m         \u001b[1;32mreturn\u001b[0m \u001b[0mcodecs\u001b[0m\u001b[1;33m.\u001b[0m\u001b[0mcharmap_decode\u001b[0m\u001b[1;33m(\u001b[0m\u001b[0minput\u001b[0m\u001b[1;33m,\u001b[0m\u001b[0mself\u001b[0m\u001b[1;33m.\u001b[0m\u001b[0merrors\u001b[0m\u001b[1;33m,\u001b[0m\u001b[0mdecoding_table\u001b[0m\u001b[1;33m)\u001b[0m\u001b[1;33m[\u001b[0m\u001b[1;36m0\u001b[0m\u001b[1;33m]\u001b[0m\u001b[1;33m\u001b[0m\u001b[0m\n\u001b[0m\u001b[0;32m     24\u001b[0m \u001b[1;33m\u001b[0m\u001b[0m\n\u001b[0;32m     25\u001b[0m \u001b[1;32mclass\u001b[0m \u001b[0mStreamWriter\u001b[0m\u001b[1;33m(\u001b[0m\u001b[0mCodec\u001b[0m\u001b[1;33m,\u001b[0m\u001b[0mcodecs\u001b[0m\u001b[1;33m.\u001b[0m\u001b[0mStreamWriter\u001b[0m\u001b[1;33m)\u001b[0m\u001b[1;33m:\u001b[0m\u001b[1;33m\u001b[0m\u001b[0m\n",
      "\u001b[1;31mUnicodeDecodeError\u001b[0m: 'charmap' codec can't decode byte 0x8d in position 3488: character maps to <undefined>"
     ]
    }
   ],
   "source": [
    "#url = \"http://www.buscape.com.br/celular-e-smartphone/iphone/7\"\n",
    "#page = rq.get(url)\n",
    "#print(page.text)\n",
    "#parsed_page = BeautifulSoup(page.text,\"html.parser\")\n",
    "\n",
    "url = \"./buscape.html\"\n",
    "parser_page = BeautifulSoup(open(url), \"html.parser\")\n",
    "#print(parsed_page)"
   ]
  },
  {
   "cell_type": "code",
   "execution_count": 18,
   "metadata": {},
   "outputs": [
    {
     "name": "stdout",
     "output_type": "stream",
     "text": [
      "<!DOCTYPE html>\n",
      "<!-- saved from url=(0056)https://www.buscape.com.br/celular-e-smartphone/iphone/7 -->\n",
      "<html class=\" fonts-loaded\">\n",
      " <head>\n",
      "  <meta content=\"text/html; charset=utf-8\" http-equiv=\"Content-Type\"/>\n",
      "  <script async=\"\" src=\"./buscape_files/publishertag.prebid.js.download\" type=\"text/javascript\">\n",
      "  </script>\n",
      "  <script async=\"\" src=\"./buscape_files/ast.js.download\" type=\"text/javascript\">\n",
      "  </script>\n",
      "  <script async=\"\" src=\"./buscape_files/prebid.js.download\" type=\"text/javascript\">\n",
      "  </script>\n",
      "  <meta content=\"user-scalable=no, initial-scale=1.0, maximum-scale=1.0, width=device-width\" name=\"viewport\"/>\n",
      "  <link href=\"https://sbuscape-a.akamaihd.net/\" rel=\"dns-prefetch\"/>\n",
      "  <link href=\"https://imgmanagercb-a.akamaihd.net/\" rel=\"dns-prefetch\"/>\n",
      "  <link href=\"https://mthumbs.buscape.com.br/\" rel=\"dns-prefetch\"/>\n",
      "  <link href=\"https://thumbs.buscape.com.br/\" rel=\"dns-prefetch\"/>\n",
      "  <link href=\"https://imagebuscape-a.akamaihd.net/\" rel=\"dns-prefetch\"/>\n",
      "  <meta content=\"68654997CD04154E3039F7ED51DC37CE\" name=\"msvalidate.01\"/>\n",
      "  <meta content=\"IE=edge,chrome=1\" http-equiv=\"X-UA-Compatible\"/>\n",
      "  <meta content=\"buscape\" id=\"author\" name=\"author\"/>\n",
      "  <meta content=\"1 days\" name=\"revisit\"/>\n",
      "  <meta content=\"user-scalable=no, initial-scale=1.0, maximum-scale=1.0, width=device-width\" name=\"viewport\"/>\n",
      "  <meta content=\"app-id=br.com.buscape.MainPack\" name=\"google-play-app\"/>\n",
      "  <meta content=\"True\" name=\"HandheldFriendly\"/>\n",
      "  <meta content=\"320\" name=\"MobileOptimized\"/>\n",
      "  <meta content=\"https://www.googleapis.com/auth/userinfo.email\" name=\"google-signin-scope\"/>\n",
      "  <meta content=\"760344128140-d8t7anhkkj2kvrhl0bdvq1qd1c4t03b9.apps.googleusercontent.com\" name=\"google-signin-client_id\"/>\n",
      "  <meta content=\"#ffcd00\" name=\"theme-color\"/>\n",
      "  <link href=\"https://www.buscape.com.br/celular-e-smartphone/iphone/7\" rel=\"canonical\"/>\n",
      "  <title>\n",
      "   Celular e Smartphone iPhone 7 com Melhor Preço no Buscapé\n",
      "  </title>\n",
      "  <meta content=\"home, buscapé\" name=\"keywords\"/>\n",
      "  <meta content=\"Procurand\n"
     ]
    }
   ],
   "source": [
    "parsed_page = BeautifulSoup(open(url, encoding=\"utf-8\"),\"html.parser\")\n",
    "#print(parsed_page)\n",
    "print(parsed_page.prettify()[:2000])"
   ]
  },
  {
   "cell_type": "code",
   "execution_count": 19,
   "metadata": {},
   "outputs": [
    {
     "data": {
      "text/plain": [
       "<title>Celular e Smartphone iPhone 7 com Melhor Preço no Buscapé</title>"
      ]
     },
     "execution_count": 19,
     "metadata": {},
     "output_type": "execute_result"
    }
   ],
   "source": [
    "parsed_page.title"
   ]
  },
  {
   "cell_type": "code",
   "execution_count": 20,
   "metadata": {},
   "outputs": [
    {
     "data": {
      "text/plain": [
       "'Celular e Smartphone iPhone 7 com Melhor Preço no Buscapé'"
      ]
     },
     "execution_count": 20,
     "metadata": {},
     "output_type": "execute_result"
    }
   ],
   "source": [
    "parsed_page.title.text"
   ]
  },
  {
   "cell_type": "code",
   "execution_count": 21,
   "metadata": {},
   "outputs": [
    {
     "name": "stdout",
     "output_type": "stream",
     "text": [
      "<a class=\"brand__thumb\" data_ga_action=\"click:logo\" data_ga_category=\"header\" data_ga_event=\"event\" href=\"https://www.buscape.com.br/\" itemprop=\"url\" title=\"Buscapé\"><img alt=\"Buscapé\" itemprop=\"logo\" src=\"./buscape_files/buscape.png\" srcset=\"https://imagebuscape-a.akamaihd.net/material/logo-buscape.svg\"/></a>\n"
     ]
    }
   ],
   "source": [
    "print(parsed_page.find('a'))"
   ]
  },
  {
   "cell_type": "code",
   "execution_count": 22,
   "metadata": {},
   "outputs": [
    {
     "name": "stdout",
     "output_type": "stream",
     "text": [
      "https://www.buscape.com.br/\n",
      "{'class': ['brand__thumb'], 'itemprop': 'url', 'data_ga_action': 'click:logo', 'data_ga_category': 'header', 'data_ga_event': 'event', 'title': 'Buscapé', 'href': 'https://www.buscape.com.br/'}\n",
      "['brand__thumb']\n"
     ]
    }
   ],
   "source": [
    "#recuperando o primeiro link da pagina\n",
    "first_link = parsed_page.find('a')\n",
    "\n",
    "#acessando a propriedade href (que contem o link)\n",
    "print(first_link.get('href'))\n",
    "print(repr(first_link.attrs))\n",
    "\n",
    "print(first_link['class'])"
   ]
  },
  {
   "cell_type": "code",
   "execution_count": 37,
   "metadata": {},
   "outputs": [
    {
     "data": {
      "text/plain": [
       "[]"
      ]
     },
     "execution_count": 37,
     "metadata": {},
     "output_type": "execute_result"
    }
   ],
   "source": [
    "precoToFloat = lambda x: float(re.sub(',','.',re.sub('[a-zA-Z\\$\\s\\.]+','',x)))\n",
    "listCelulares = []\n",
    "for a in parsed_page.find_all('li',itemtype=re.compile('Product')):\n",
    "    modelo, capacidade = re.match('(iPhone \\dS?(?:\\sPlus)?)\\s*(\\d+)GB',\\\n",
    "                                 re.sub('Smartphone Apple ','',\\\n",
    "                                       a.find('div',class_='bui-product__name').text)).groups()\n",
    "    menorPreco = precoToFloat(a.find(itemprop='min').text)\n",
    "    maiorPreco = precoToFloat(a.find(itemprop='max').text)\n",
    "    disponibilidade = int(a.find('span',attrs={'name': 'storeCount'}).text)\n",
    "    listCelulares.append(dict(zip(['modelo','capacidade','menorPreco','maiorPreco','disponibilidade'],\\\n",
    "                                  [modelo,int(capacidade),menorPreco,maiorPreco,disponibilidade])))\n",
    "listCelulares"
   ]
  },
  {
   "cell_type": "code",
   "execution_count": null,
   "metadata": {},
   "outputs": [],
   "source": []
  }
 ],
 "metadata": {
  "kernelspec": {
   "display_name": "Python 3",
   "language": "python",
   "name": "python3"
  },
  "language_info": {
   "codemirror_mode": {
    "name": "ipython",
    "version": 3
   },
   "file_extension": ".py",
   "mimetype": "text/x-python",
   "name": "python",
   "nbconvert_exporter": "python",
   "pygments_lexer": "ipython3",
   "version": "3.6.5"
  }
 },
 "nbformat": 4,
 "nbformat_minor": 2
}
